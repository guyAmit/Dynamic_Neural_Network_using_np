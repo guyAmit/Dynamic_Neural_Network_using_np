{
 "cells": [
  {
   "cell_type": "code",
   "execution_count": 1,
   "metadata": {},
   "outputs": [
    {
     "name": "stderr",
     "output_type": "stream",
     "text": [
      "C:\\ProgramData\\Anaconda3\\lib\\site-packages\\h5py\\__init__.py:36: FutureWarning: Conversion of the second argument of issubdtype from `float` to `np.floating` is deprecated. In future, it will be treated as `np.float64 == np.dtype(float).type`.\n",
      "  from ._conv import register_converters as _register_converters\n",
      "Using TensorFlow backend.\n"
     ]
    }
   ],
   "source": [
    "from scipy.io import loadmat\n",
    "import numpy as np\n",
    "from sklearn import manifold\n",
    "import matplotlib.pyplot as plt\n",
    "import seaborn as sns\n",
    "from keras import layers\n",
    "from keras import Sequential\n",
    "from keras.regularizers import l2\n",
    "sns.set_style(\"darkgrid\")"
   ]
  },
  {
   "cell_type": "code",
   "execution_count": 2,
   "metadata": {},
   "outputs": [],
   "source": [
    "def load_data(filename =''):\n",
    "    Data = {}\n",
    "    loadmat(file_name=filename, mdict=Data)\n",
    "    X_train = Data['Yt']\n",
    "    Y_train = Data['Ct']\n",
    "    X_val = Data['Yv']\n",
    "    Y_val = Data['Cv']\n",
    "    return X_train.T,Y_train.T,X_val.T,Y_val.T"
   ]
  },
  {
   "cell_type": "markdown",
   "metadata": {},
   "source": [
    "$$\\Huge \\text{Swiss Roll Data} $$"
   ]
  },
  {
   "cell_type": "code",
   "execution_count": 3,
   "metadata": {},
   "outputs": [
    {
     "name": "stdout",
     "output_type": "stream",
     "text": [
      "(25000, 2)\n",
      "(25000, 2)\n",
      "(6250, 2)\n",
      "(6250, 2)\n"
     ]
    }
   ],
   "source": [
    "X_train,Y_train,X_val,Y_val = load_data(filename='SwissRollData.mat')\n",
    "print(X_train.shape)\n",
    "print(Y_train.shape)\n",
    "print(X_val.shape)\n",
    "print(Y_val.shape)"
   ]
  },
  {
   "cell_type": "markdown",
   "metadata": {},
   "source": [
    "$$\\large \\text{Visualization} $$"
   ]
  },
  {
   "cell_type": "code",
   "execution_count": 4,
   "metadata": {},
   "outputs": [
    {
     "data": {
      "text/plain": [
       "<matplotlib.collections.PathCollection at 0x1a063f7cef0>"
      ]
     },
     "execution_count": 4,
     "metadata": {},
     "output_type": "execute_result"
    },
    {
     "data": {
      "image/png": "[encoded data removed]",
      "text/plain": [
       "<Figure size 432x288 with 1 Axes>"
      ]
     },
     "metadata": {
      "needs_background": "light"
     },
     "output_type": "display_data"
    }
   ],
   "source": [
    "red_idx = Y_train[:,0]==0\n",
    "plt.scatter(x=X_train[red_idx,0], y=X_train[red_idx,1] ,c='r')\n",
    "plt.scatter(x=X_train[~red_idx,0], y=X_train[~red_idx,1] ,c='b')"
   ]
  },
  {
   "cell_type": "markdown",
   "metadata": {},
   "source": [
    "$$\\large \\text{Correlation Matrix} $$"
   ]
  },
  {
   "cell_type": "code",
   "execution_count": 5,
   "metadata": {},
   "outputs": [
    {
     "name": "stdout",
     "output_type": "stream",
     "text": [
      "[[ 0.5627237  -0.05886637]\n",
      " [-0.05886637  0.555009  ]]\n"
     ]
    }
   ],
   "source": [
    "cor = X_train.T.dot(X_train)\n",
    "print(cor/np.sum(cor))"
   ]
  },
  {
   "cell_type": "markdown",
   "metadata": {},
   "source": [
    "$$\\large \\text{Model} $$"
   ]
  },
  {
   "cell_type": "code",
   "execution_count": 7,
   "metadata": {},
   "outputs": [
    {
     "name": "stdout",
     "output_type": "stream",
     "text": [
      "Train on 25000 samples, validate on 6250 samples\n",
      "Epoch 1/100\n",
      "25000/25000 [==============================] - 1s 23us/step - loss: 0.7065 - acc: 0.4355 - val_loss: 0.6943 - val_acc: 0.4997\n",
      "Epoch 2/100\n",
      "25000/25000 [==============================] - 0s 16us/step - loss: 0.6881 - acc: 0.5589 - val_loss: 0.6826 - val_acc: 0.5661\n",
      "Epoch 3/100\n",
      "25000/25000 [==============================] - 0s 15us/step - loss: 0.6783 - acc: 0.5785 - val_loss: 0.6740 - val_acc: 0.5618\n",
      "Epoch 4/100\n",
      "25000/25000 [==============================] - 0s 17us/step - loss: 0.6702 - acc: 0.5622 - val_loss: 0.6665 - val_acc: 0.5626\n",
      "Epoch 5/100\n",
      "25000/25000 [==============================] - 0s 19us/step - loss: 0.6634 - acc: 0.5591 - val_loss: 0.6594 - val_acc: 0.5594\n",
      "Epoch 6/100\n",
      "25000/25000 [==============================] - 0s 16us/step - loss: 0.6563 - acc: 0.5487 - val_loss: 0.6524 - val_acc: 0.5622\n",
      "Epoch 7/100\n",
      "25000/25000 [==============================] - 0s 16us/step - loss: 0.6499 - acc: 0.5431 - val_loss: 0.6463 - val_acc: 0.5493\n",
      "Epoch 8/100\n",
      "25000/25000 [==============================] - 0s 16us/step - loss: 0.6438 - acc: 0.5332 - val_loss: 0.6401 - val_acc: 0.5270\n",
      "Epoch 9/100\n",
      "25000/25000 [==============================] - 0s 15us/step - loss: 0.6382 - acc: 0.5189 - val_loss: 0.6345 - val_acc: 0.5173\n",
      "Epoch 10/100\n",
      "25000/25000 [==============================] - 0s 16us/step - loss: 0.6332 - acc: 0.5151 - val_loss: 0.6299 - val_acc: 0.5178\n",
      "Epoch 11/100\n",
      "25000/25000 [==============================] - 0s 16us/step - loss: 0.6291 - acc: 0.5147 - val_loss: 0.6262 - val_acc: 0.5173\n",
      "Epoch 12/100\n",
      "25000/25000 [==============================] - 0s 17us/step - loss: 0.6260 - acc: 0.5156 - val_loss: 0.6230 - val_acc: 0.5170\n",
      "Epoch 13/100\n",
      "25000/25000 [==============================] - 0s 20us/step - loss: 0.6236 - acc: 0.5161 - val_loss: 0.6210 - val_acc: 0.5162\n",
      "Epoch 14/100\n",
      "25000/25000 [==============================] - 0s 19us/step - loss: 0.6219 - acc: 0.5161 - val_loss: 0.6193 - val_acc: 0.5157\n",
      "Epoch 15/100\n",
      "25000/25000 [==============================] - 0s 17us/step - loss: 0.6205 - acc: 0.5156 - val_loss: 0.6181 - val_acc: 0.5158\n",
      "Epoch 16/100\n",
      "25000/25000 [==============================] - 0s 17us/step - loss: 0.6194 - acc: 0.5154 - val_loss: 0.6171 - val_acc: 0.5160\n",
      "Epoch 17/100\n",
      "25000/25000 [==============================] - 0s 15us/step - loss: 0.6184 - acc: 0.5155 - val_loss: 0.6160 - val_acc: 0.5150\n",
      "Epoch 18/100\n",
      "25000/25000 [==============================] - 0s 16us/step - loss: 0.6176 - acc: 0.5146 - val_loss: 0.6151 - val_acc: 0.5152\n",
      "Epoch 19/100\n",
      "25000/25000 [==============================] - ETA: 0s - loss: 0.6161 - acc: 0.515 - 1s 27us/step - loss: 0.6167 - acc: 0.5147 - val_loss: 0.6143 - val_acc: 0.5150\n",
      "Epoch 20/100\n",
      "25000/25000 [==============================] - 0s 18us/step - loss: 0.6159 - acc: 0.5144 - val_loss: 0.6134 - val_acc: 0.5141\n",
      "Epoch 21/100\n",
      "25000/25000 [==============================] - 1s 20us/step - loss: 0.6151 - acc: 0.5135 - val_loss: 0.6126 - val_acc: 0.5142\n",
      "Epoch 22/100\n",
      "25000/25000 [==============================] - 0s 19us/step - loss: 0.6143 - acc: 0.5131 - val_loss: 0.6118 - val_acc: 0.5142\n",
      "Epoch 23/100\n",
      "25000/25000 [==============================] - 0s 18us/step - loss: 0.6137 - acc: 0.5131 - val_loss: 0.6114 - val_acc: 0.5142\n",
      "Epoch 24/100\n",
      "25000/25000 [==============================] - 1s 21us/step - loss: 0.6129 - acc: 0.5129 - val_loss: 0.6104 - val_acc: 0.5142\n",
      "Epoch 25/100\n",
      "25000/25000 [==============================] - 0s 17us/step - loss: 0.6122 - acc: 0.5131 - val_loss: 0.6099 - val_acc: 0.5150\n",
      "Epoch 26/100\n",
      "25000/25000 [==============================] - 0s 18us/step - loss: 0.6114 - acc: 0.5130 - val_loss: 0.6088 - val_acc: 0.5139\n",
      "Epoch 27/100\n",
      "25000/25000 [==============================] - 0s 17us/step - loss: 0.6106 - acc: 0.5124 - val_loss: 0.6081 - val_acc: 0.5142\n",
      "Epoch 28/100\n",
      "25000/25000 [==============================] - 0s 16us/step - loss: 0.6099 - acc: 0.5127 - val_loss: 0.6074 - val_acc: 0.5136\n",
      "Epoch 29/100\n",
      "25000/25000 [==============================] - 0s 17us/step - loss: 0.6091 - acc: 0.5122 - val_loss: 0.6068 - val_acc: 0.5136\n",
      "Epoch 30/100\n",
      "25000/25000 [==============================] - 0s 16us/step - loss: 0.6083 - acc: 0.5120 - val_loss: 0.6059 - val_acc: 0.5133\n",
      "Epoch 31/100\n",
      "25000/25000 [==============================] - 0s 20us/step - loss: 0.6076 - acc: 0.5125 - val_loss: 0.6049 - val_acc: 0.5138\n",
      "Epoch 32/100\n",
      "25000/25000 [==============================] - 1s 21us/step - loss: 0.6068 - acc: 0.5121 - val_loss: 0.6042 - val_acc: 0.5144\n",
      "Epoch 33/100\n",
      "25000/25000 [==============================] - 0s 19us/step - loss: 0.6059 - acc: 0.5143 - val_loss: 0.6034 - val_acc: 0.5133\n",
      "Epoch 34/100\n",
      "25000/25000 [==============================] - 1s 24us/step - loss: 0.6050 - acc: 0.5169 - val_loss: 0.6025 - val_acc: 0.5338\n",
      "Epoch 35/100\n",
      "25000/25000 [==============================] - 1s 24us/step - loss: 0.6041 - acc: 0.5254 - val_loss: 0.6014 - val_acc: 0.5162\n",
      "Epoch 36/100\n",
      "25000/25000 [==============================] - 1s 24us/step - loss: 0.6032 - acc: 0.5255 - val_loss: 0.6004 - val_acc: 0.5347\n",
      "Epoch 37/100\n",
      "25000/25000 [==============================] - 1s 21us/step - loss: 0.6023 - acc: 0.5319 - val_loss: 0.5996 - val_acc: 0.5299\n",
      "Epoch 38/100\n",
      "25000/25000 [==============================] - 0s 17us/step - loss: 0.6013 - acc: 0.5328 - val_loss: 0.5983 - val_acc: 0.5411\n",
      "Epoch 39/100\n",
      "25000/25000 [==============================] - 0s 15us/step - loss: 0.6001 - acc: 0.5390 - val_loss: 0.5976 - val_acc: 0.5456\n",
      "Epoch 40/100\n",
      "25000/25000 [==============================] - 1s 20us/step - loss: 0.5992 - acc: 0.5434 - val_loss: 0.5961 - val_acc: 0.5486\n",
      "Epoch 41/100\n",
      "25000/25000 [==============================] - 1s 25us/step - loss: 0.5980 - acc: 0.5494 - val_loss: 0.5959 - val_acc: 0.5429\n",
      "Epoch 42/100\n",
      "25000/25000 [==============================] - 1s 24us/step - loss: 0.5970 - acc: 0.5484 - val_loss: 0.5938 - val_acc: 0.5611\n",
      "Epoch 43/100\n",
      "25000/25000 [==============================] - 1s 24us/step - loss: 0.5955 - acc: 0.5546 - val_loss: 0.5922 - val_acc: 0.5642\n",
      "Epoch 44/100\n",
      "25000/25000 [==============================] - 1s 27us/step - loss: 0.5939 - acc: 0.5589 - val_loss: 0.5913 - val_acc: 0.5606\n",
      "Epoch 45/100\n",
      "25000/25000 [==============================] - 1s 21us/step - loss: 0.5923 - acc: 0.5620 - val_loss: 0.5892 - val_acc: 0.5992\n",
      "Epoch 46/100\n",
      "25000/25000 [==============================] - 1s 25us/step - loss: 0.5909 - acc: 0.5698 - val_loss: 0.5885 - val_acc: 0.5632\n",
      "Epoch 47/100\n",
      "25000/25000 [==============================] - 1s 22us/step - loss: 0.5894 - acc: 0.5696 - val_loss: 0.5863 - val_acc: 0.5694\n",
      "Epoch 48/100\n",
      "25000/25000 [==============================] - 0s 20us/step - loss: 0.5878 - acc: 0.5785 - val_loss: 0.5844 - val_acc: 0.5702\n",
      "Epoch 49/100\n",
      "25000/25000 [==============================] - 1s 20us/step - loss: 0.5860 - acc: 0.5804 - val_loss: 0.5827 - val_acc: 0.6173\n",
      "Epoch 50/100\n",
      "25000/25000 [==============================] - 1s 33us/step - loss: 0.5843 - acc: 0.5983 - val_loss: 0.5811 - val_acc: 0.5906\n",
      "Epoch 51/100\n",
      "25000/25000 [==============================] - 1s 30us/step - loss: 0.5825 - acc: 0.5985 - val_loss: 0.5787 - val_acc: 0.6226\n",
      "Epoch 52/100\n",
      "25000/25000 [==============================] - 1s 26us/step - loss: 0.5806 - acc: 0.6122 - val_loss: 0.5764 - val_acc: 0.6493\n",
      "Epoch 53/100\n",
      "25000/25000 [==============================] - 1s 34us/step - loss: 0.5783 - acc: 0.6183 - val_loss: 0.5743 - val_acc: 0.6493\n",
      "Epoch 54/100\n",
      "25000/25000 [==============================] - 1s 37us/step - loss: 0.5755 - acc: 0.6273 - val_loss: 0.5714 - val_acc: 0.6570\n",
      "Epoch 55/100\n",
      "25000/25000 [==============================] - 1s 22us/step - loss: 0.5728 - acc: 0.6319 - val_loss: 0.5684 - val_acc: 0.6682\n",
      "Epoch 56/100\n",
      "25000/25000 [==============================] - 1s 30us/step - loss: 0.5685 - acc: 0.6435 - val_loss: 0.5630 - val_acc: 0.6640\n",
      "Epoch 57/100\n",
      "25000/25000 [==============================] - 0s 19us/step - loss: 0.5639 - acc: 0.6525 - val_loss: 0.5593 - val_acc: 0.6578\n",
      "Epoch 58/100\n",
      "25000/25000 [==============================] - 1s 33us/step - loss: 0.5605 - acc: 0.6562 - val_loss: 0.5561 - val_acc: 0.6632\n",
      "Epoch 59/100\n"
     ]
    },
    {
     "name": "stdout",
     "output_type": "stream",
     "text": [
      "25000/25000 [==============================] - 1s 21us/step - loss: 0.5575 - acc: 0.6602 - val_loss: 0.5527 - val_acc: 0.6757\n",
      "Epoch 60/100\n",
      "25000/25000 [==============================] - 1s 20us/step - loss: 0.5545 - acc: 0.6641 - val_loss: 0.5496 - val_acc: 0.6742\n",
      "Epoch 61/100\n",
      "25000/25000 [==============================] - 0s 19us/step - loss: 0.5517 - acc: 0.6680 - val_loss: 0.5466 - val_acc: 0.6773\n",
      "Epoch 62/100\n",
      "25000/25000 [==============================] - 1s 21us/step - loss: 0.5488 - acc: 0.6717 - val_loss: 0.5439 - val_acc: 0.6770\n",
      "Epoch 63/100\n",
      "25000/25000 [==============================] - 1s 22us/step - loss: 0.5460 - acc: 0.6740 - val_loss: 0.5409 - val_acc: 0.6936\n",
      "Epoch 64/100\n",
      "25000/25000 [==============================] - 1s 21us/step - loss: 0.5433 - acc: 0.6820 - val_loss: 0.5383 - val_acc: 0.7091\n",
      "Epoch 65/100\n",
      "25000/25000 [==============================] - 1s 25us/step - loss: 0.5407 - acc: 0.6925 - val_loss: 0.5359 - val_acc: 0.7104\n",
      "Epoch 66/100\n",
      "25000/25000 [==============================] - 0s 17us/step - loss: 0.5381 - acc: 0.7012 - val_loss: 0.5333 - val_acc: 0.6949\n",
      "Epoch 67/100\n",
      "25000/25000 [==============================] - 0s 17us/step - loss: 0.5356 - acc: 0.7098 - val_loss: 0.5307 - val_acc: 0.7038\n",
      "Epoch 68/100\n",
      "25000/25000 [==============================] - 0s 18us/step - loss: 0.5332 - acc: 0.7133 - val_loss: 0.5279 - val_acc: 0.7200\n",
      "Epoch 69/100\n",
      "25000/25000 [==============================] - 0s 17us/step - loss: 0.5307 - acc: 0.7181 - val_loss: 0.5255 - val_acc: 0.7318\n",
      "Epoch 70/100\n",
      "25000/25000 [==============================] - 0s 15us/step - loss: 0.5281 - acc: 0.7224 - val_loss: 0.5227 - val_acc: 0.7314\n",
      "Epoch 71/100\n",
      "25000/25000 [==============================] - 0s 15us/step - loss: 0.5257 - acc: 0.7248 - val_loss: 0.5205 - val_acc: 0.7320\n",
      "Epoch 72/100\n",
      "25000/25000 [==============================] - 1s 22us/step - loss: 0.5235 - acc: 0.7251 - val_loss: 0.5180 - val_acc: 0.7315\n",
      "Epoch 73/100\n",
      "25000/25000 [==============================] - 0s 15us/step - loss: 0.5211 - acc: 0.7256 - val_loss: 0.5169 - val_acc: 0.7294\n",
      "Epoch 74/100\n",
      "25000/25000 [==============================] - 0s 18us/step - loss: 0.5190 - acc: 0.7259 - val_loss: 0.5141 - val_acc: 0.7331\n",
      "Epoch 75/100\n",
      "25000/25000 [==============================] - 1s 21us/step - loss: 0.5170 - acc: 0.7264 - val_loss: 0.5116 - val_acc: 0.7330\n",
      "Epoch 76/100\n",
      "25000/25000 [==============================] - 1s 21us/step - loss: 0.5150 - acc: 0.7266 - val_loss: 0.5097 - val_acc: 0.7328\n",
      "Epoch 77/100\n",
      "25000/25000 [==============================] - 1s 21us/step - loss: 0.5131 - acc: 0.7267 - val_loss: 0.5079 - val_acc: 0.7333\n",
      "Epoch 78/100\n",
      "25000/25000 [==============================] - 1s 23us/step - loss: 0.5113 - acc: 0.7270 - val_loss: 0.5065 - val_acc: 0.7326\n",
      "Epoch 79/100\n",
      "25000/25000 [==============================] - 1s 27us/step - loss: 0.5095 - acc: 0.7271 - val_loss: 0.5045 - val_acc: 0.7328\n",
      "Epoch 80/100\n",
      "25000/25000 [==============================] - 0s 17us/step - loss: 0.5077 - acc: 0.7271 - val_loss: 0.5029 - val_acc: 0.7338\n",
      "Epoch 81/100\n",
      "25000/25000 [==============================] - 0s 16us/step - loss: 0.5061 - acc: 0.7274 - val_loss: 0.5011 - val_acc: 0.7330\n",
      "Epoch 82/100\n",
      "25000/25000 [==============================] - 0s 16us/step - loss: 0.5043 - acc: 0.7273 - val_loss: 0.5000 - val_acc: 0.7336\n",
      "Epoch 83/100\n",
      "25000/25000 [==============================] - 0s 17us/step - loss: 0.5029 - acc: 0.7278 - val_loss: 0.4978 - val_acc: 0.7336\n",
      "Epoch 84/100\n",
      "25000/25000 [==============================] - 0s 15us/step - loss: 0.5012 - acc: 0.7274 - val_loss: 0.4963 - val_acc: 0.7336\n",
      "Epoch 85/100\n",
      "25000/25000 [==============================] - 0s 16us/step - loss: 0.4997 - acc: 0.7276 - val_loss: 0.4949 - val_acc: 0.7341\n",
      "Epoch 86/100\n",
      "25000/25000 [==============================] - 0s 19us/step - loss: 0.4981 - acc: 0.7282 - val_loss: 0.4931 - val_acc: 0.7338\n",
      "Epoch 87/100\n",
      "25000/25000 [==============================] - 0s 19us/step - loss: 0.4964 - acc: 0.7282 - val_loss: 0.4924 - val_acc: 0.7333\n",
      "Epoch 88/100\n",
      "25000/25000 [==============================] - 0s 19us/step - loss: 0.4949 - acc: 0.7282 - val_loss: 0.4907 - val_acc: 0.7349\n",
      "Epoch 89/100\n",
      "25000/25000 [==============================] - 0s 19us/step - loss: 0.4935 - acc: 0.7285 - val_loss: 0.4890 - val_acc: 0.7341\n",
      "Epoch 90/100\n",
      "25000/25000 [==============================] - 0s 19us/step - loss: 0.4918 - acc: 0.7291 - val_loss: 0.4875 - val_acc: 0.7339\n",
      "Epoch 91/100\n",
      "25000/25000 [==============================] - 0s 19us/step - loss: 0.4904 - acc: 0.7293 - val_loss: 0.4856 - val_acc: 0.7350\n",
      "Epoch 92/100\n",
      "25000/25000 [==============================] - 0s 19us/step - loss: 0.4890 - acc: 0.7293 - val_loss: 0.4842 - val_acc: 0.7339\n",
      "Epoch 93/100\n",
      "25000/25000 [==============================] - 1s 23us/step - loss: 0.4871 - acc: 0.7314 - val_loss: 0.4832 - val_acc: 0.7349\n",
      "Epoch 94/100\n",
      "25000/25000 [==============================] - 1s 27us/step - loss: 0.4858 - acc: 0.7312 - val_loss: 0.4808 - val_acc: 0.7350\n",
      "Epoch 95/100\n",
      "25000/25000 [==============================] - 1s 32us/step - loss: 0.4841 - acc: 0.7331 - val_loss: 0.4807 - val_acc: 0.7419\n",
      "Epoch 96/100\n",
      "25000/25000 [==============================] - 1s 28us/step - loss: 0.4822 - acc: 0.7350 - val_loss: 0.4776 - val_acc: 0.7354\n",
      "Epoch 97/100\n",
      "25000/25000 [==============================] - 1s 27us/step - loss: 0.4807 - acc: 0.7362 - val_loss: 0.4768 - val_acc: 0.7440\n",
      "Epoch 98/100\n",
      "25000/25000 [==============================] - 1s 21us/step - loss: 0.4789 - acc: 0.7386 - val_loss: 0.4745 - val_acc: 0.7347\n",
      "Epoch 99/100\n",
      "25000/25000 [==============================] - 1s 22us/step - loss: 0.4771 - acc: 0.7388 - val_loss: 0.4726 - val_acc: 0.7451\n",
      "Epoch 100/100\n",
      "25000/25000 [==============================] - 1s 23us/step - loss: 0.4752 - acc: 0.7411 - val_loss: 0.4705 - val_acc: 0.7445\n"
     ]
    },
    {
     "data": {
      "text/plain": [
       "<keras.callbacks.History at 0x1a0659dd828>"
      ]
     },
     "execution_count": 7,
     "metadata": {},
     "output_type": "execute_result"
    }
   ],
   "source": [
    "model1 = Sequential()\n",
    "model1.add(layers.Dense(units=15, activation='relu', input_dim= 2))\n",
    "model1.add(layers.Dense(units=15, activation='relu'))\n",
    "model1.add(layers.Dense(units=2, activation='softmax'))\n",
    "model1.compile(loss='categorical_crossentropy',\n",
    "              optimizer='sgd',\n",
    "              metrics=['accuracy'])\n",
    "model1.fit(X_train,Y_train, epochs=100,validation_data=(X_val,Y_val), batch_size=64)"
   ]
  },
  {
   "cell_type": "code",
   "execution_count": 6,
   "metadata": {},
   "outputs": [
    {
     "name": "stdout",
     "output_type": "stream",
     "text": [
      "Train on 25000 samples, validate on 6250 samples\n",
      "Epoch 1/20\n",
      "25000/25000 [==============================] - 1s 59us/step - loss: 0.6537 - acc: 0.5883 - val_loss: 0.6167 - val_acc: 0.5138\n",
      "Epoch 2/20\n",
      "25000/25000 [==============================] - 1s 27us/step - loss: 0.5841 - acc: 0.6021 - val_loss: 0.5323 - val_acc: 0.7282\n",
      "Epoch 3/20\n",
      "25000/25000 [==============================] - 1s 35us/step - loss: 0.5235 - acc: 0.7179 - val_loss: 0.4913 - val_acc: 0.7344\n",
      "Epoch 4/20\n",
      "25000/25000 [==============================] - 1s 27us/step - loss: 0.4863 - acc: 0.7286 - val_loss: 0.4297 - val_acc: 0.7360\n",
      "Epoch 5/20\n",
      "25000/25000 [==============================] - 1s 31us/step - loss: 0.4119 - acc: 0.7491 - val_loss: 0.3341 - val_acc: 0.9333\n",
      "Epoch 6/20\n",
      "25000/25000 [==============================] - 1s 33us/step - loss: 0.3124 - acc: 0.8673 - val_loss: 0.1711 - val_acc: 0.9597\n",
      "Epoch 7/20\n",
      "25000/25000 [==============================] - 1s 30us/step - loss: 0.1958 - acc: 0.9322 - val_loss: 0.1066 - val_acc: 0.9621\n",
      "Epoch 8/20\n",
      "25000/25000 [==============================] - 1s 34us/step - loss: 0.1546 - acc: 0.9480 - val_loss: 0.0881 - val_acc: 0.9642\n",
      "Epoch 9/20\n",
      "25000/25000 [==============================] - 1s 28us/step - loss: 0.1322 - acc: 0.9527 - val_loss: 0.0772 - val_acc: 0.9696\n",
      "Epoch 10/20\n",
      "25000/25000 [==============================] - 1s 34us/step - loss: 0.1172 - acc: 0.9557 - val_loss: 0.0685 - val_acc: 0.9717\n",
      "Epoch 11/20\n",
      "25000/25000 [==============================] - 1s 30us/step - loss: 0.1075 - acc: 0.9576 - val_loss: 0.0601 - val_acc: 0.9738\n",
      "Epoch 12/20\n",
      "25000/25000 [==============================] - 1s 32us/step - loss: 0.0927 - acc: 0.9669 - val_loss: 0.0508 - val_acc: 0.9803\n",
      "Epoch 13/20\n",
      "25000/25000 [==============================] - 1s 41us/step - loss: 0.0850 - acc: 0.9713 - val_loss: 0.0413 - val_acc: 0.9840\n",
      "Epoch 14/20\n",
      "25000/25000 [==============================] - 1s 33us/step - loss: 0.0712 - acc: 0.9777 - val_loss: 0.0313 - val_acc: 0.9950\n",
      "Epoch 15/20\n",
      "25000/25000 [==============================] - 1s 35us/step - loss: 0.0632 - acc: 0.9813 - val_loss: 0.0251 - val_acc: 1.0000\n",
      "Epoch 16/20\n",
      "25000/25000 [==============================] - 1s 29us/step - loss: 0.0552 - acc: 0.9834 - val_loss: 0.0205 - val_acc: 1.0000\n",
      "Epoch 17/20\n",
      "25000/25000 [==============================] - 1s 34us/step - loss: 0.0476 - acc: 0.9856 - val_loss: 0.0147 - val_acc: 1.0000\n",
      "Epoch 18/20\n",
      "25000/25000 [==============================] - 1s 37us/step - loss: 0.0420 - acc: 0.9882 - val_loss: 0.0113 - val_acc: 1.0000\n",
      "Epoch 19/20\n",
      "25000/25000 [==============================] - 1s 35us/step - loss: 0.0350 - acc: 0.9912 - val_loss: 0.0093 - val_acc: 1.0000\n",
      "Epoch 20/20\n",
      "25000/25000 [==============================] - 1s 45us/step - loss: 0.0322 - acc: 0.9912 - val_loss: 0.0064 - val_acc: 1.0000\n"
     ]
    },
    {
     "data": {
      "text/plain": [
       "<keras.callbacks.History at 0x1d2c33d9470>"
      ]
     },
     "execution_count": 6,
     "metadata": {},
     "output_type": "execute_result"
    }
   ],
   "source": [
    "model1 = Sequential()\n",
    "model1.add(layers.Dense(units=15, activation='relu', input_dim= 2))\n",
    "model1.add(layers.Dense(units=15, activation='relu'))\n",
    "model1.add(layers.Dropout(0.2))\n",
    "model1.add(layers.Dense(units=15, activation='relu'))\n",
    "model1.add(layers.Dense(units=2, activation='softmax'))\n",
    "model1.compile(loss='categorical_crossentropy',\n",
    "              optimizer='adam',\n",
    "              metrics=['accuracy'])\n",
    "model1.fit(X_train,Y_train, epochs=20,validation_data=(X_val,Y_val), batch_size=64)"
   ]
  },
  {
   "cell_type": "markdown",
   "metadata": {},
   "source": [
    "$$\\Huge \\text{Peaks Data} $$"
   ]
  },
  {
   "cell_type": "code",
   "execution_count": 12,
   "metadata": {},
   "outputs": [
    {
     "name": "stdout",
     "output_type": "stream",
     "text": [
      "(25000, 2)\n",
      "(25000, 5)\n",
      "(6250, 2)\n",
      "(6250, 5)\n"
     ]
    }
   ],
   "source": [
    "X_train,Y_train,X_val,Y_val = load_data(filename='PeaksData.mat')\n",
    "print(X_train.shape)\n",
    "print(Y_train.shape)\n",
    "print(X_val.shape)\n",
    "print(Y_val.shape)"
   ]
  },
  {
   "cell_type": "markdown",
   "metadata": {},
   "source": [
    "$$\\large \\text{Visualization} $$"
   ]
  },
  {
   "cell_type": "code",
   "execution_count": 144,
   "metadata": {},
   "outputs": [
    {
     "data": {
      "text/plain": [
       "<matplotlib.collections.PathCollection at 0x26bb9980668>"
      ]
     },
     "execution_count": 144,
     "metadata": {},
     "output_type": "execute_result"
    },
    {
     "data": {
      "image/png": "[encoded data removed]",
      "text/plain": [
       "<Figure size 432x288 with 1 Axes>"
      ]
     },
     "metadata": {},
     "output_type": "display_data"
    }
   ],
   "source": [
    "yellow_idx = Y_train[:, 2]==1\n",
    "green_idx = Y_train[:, 4]==1\n",
    "purple_idx = Y_train[:, 3]==1\n",
    "blue_idx = Y_train[:, 0]==1\n",
    "orange_idx = Y_train[:, 1]==1\n",
    "plt.scatter(x=X_train[yellow_idx,0], y=X_train[yellow_idx,1] ,c='goldenrod')\n",
    "plt.scatter(x=X_train[blue_idx,0], y=X_train[blue_idx,1] ,c='blue')\n",
    "plt.scatter(x=X_train[orange_idx,0], y=X_train[orange_idx,1] ,c='orangered')\n",
    "plt.scatter(x=X_train[green_idx,0], y=X_train[green_idx,1] ,c='yellowgreen')\n",
    "plt.scatter(x=X_train[purple_idx,0], y=X_train[purple_idx,1] ,c='purple')"
   ]
  },
  {
   "cell_type": "markdown",
   "metadata": {},
   "source": [
    "$$\\large \\text{Correlation Matrix} $$"
   ]
  },
  {
   "cell_type": "code",
   "execution_count": 145,
   "metadata": {},
   "outputs": [
    {
     "name": "stdout",
     "output_type": "stream",
     "text": [
      "[[ 0.35370395 -0.0322979 ]\n",
      " [-0.0322979   0.71089184]]\n"
     ]
    }
   ],
   "source": [
    "cor = X_train.T.dot(X_train)\n",
    "print(cor/np.sum(cor))"
   ]
  },
  {
   "cell_type": "markdown",
   "metadata": {},
   "source": [
    "$$\\large \\text{Polynomial Kernel} $$"
   ]
  },
  {
   "cell_type": "code",
   "execution_count": 121,
   "metadata": {},
   "outputs": [
    {
     "name": "stdout",
     "output_type": "stream",
     "text": [
      "(25000, 8)\n",
      "(6250, 8)\n"
     ]
    }
   ],
   "source": [
    "x12_train = X_train[:,0]*X_train[:,1]\n",
    "x12_val = X_val[:,0]*X_val[:,1]\n",
    "x11_train = X_train[:,0]*X_train[:,0]\n",
    "x11_val = X_val[:,0]*X_val[:,0]\n",
    "x11_train = X_train[:,1]*X_train[:,1]\n",
    "x11_val = X_val[:,1]*X_val[:,1]\n",
    "x112_train = X_train[:,0]*X_train[:,0]*X_train[:,1]\n",
    "x112_val = X_val[:,0]*X_val[:,0]*X_val[:,1]\n",
    "x122_train = X_train[:,0]*X_train[:,1]*X_train[:,1]\n",
    "x122_val = X_val[:,0]*X_val[:,1]*X_val[:,1]\n",
    "x111_train = X_train[:,0]*X_train[:,0]*X_train[:,0]\n",
    "x111_val = X_val[:,0]*X_val[:,0]*X_val[:,0]\n",
    "x222_train = X_train[:,1]*X_train[:,1]*X_train[:,1]\n",
    "x222_val = X_val[:,1]*X_val[:,1]*X_val[:,1]\n",
    "\n",
    "\n",
    "X_train = np.column_stack((X_train,x12_train, x11_train, x112_train, x122_train, x111_train, x222_train))\n",
    "X_val = np.column_stack((X_val,x12_val, x11_val, x112_val, x122_val, x111_val, x222_val))\n",
    "print(X_train.shape)\n",
    "print(X_val.shape)"
   ]
  },
  {
   "cell_type": "markdown",
   "metadata": {},
   "source": [
    "$$\\large \\text{Model} $$"
   ]
  },
  {
   "cell_type": "code",
   "execution_count": 126,
   "metadata": {},
   "outputs": [
    {
     "name": "stdout",
     "output_type": "stream",
     "text": [
      "Train on 25000 samples, validate on 6250 samples\n",
      "Epoch 1/53\n",
      "25000/25000 [==============================] - 4s 152us/step - loss: 0.7840 - acc: 0.7029 - val_loss: 0.2404 - val_acc: 0.9099\n",
      "Epoch 2/53\n",
      "25000/25000 [==============================] - 1s 38us/step - loss: 0.2318 - acc: 0.9152 - val_loss: 0.1087 - val_acc: 0.9562\n",
      "Epoch 3/53\n",
      "25000/25000 [==============================] - 1s 39us/step - loss: 0.1489 - acc: 0.9448 - val_loss: 0.0906 - val_acc: 0.9651\n",
      "Epoch 4/53\n",
      "25000/25000 [==============================] - 1s 38us/step - loss: 0.1140 - acc: 0.9590 - val_loss: 0.0565 - val_acc: 0.9819\n",
      "Epoch 5/53\n",
      "25000/25000 [==============================] - 1s 39us/step - loss: 0.1030 - acc: 0.9612 - val_loss: 0.0544 - val_acc: 0.9797\n",
      "Epoch 6/53\n",
      "25000/25000 [==============================] - 1s 38us/step - loss: 0.0866 - acc: 0.9686 - val_loss: 0.0564 - val_acc: 0.9811\n",
      "Epoch 7/53\n",
      "25000/25000 [==============================] - 1s 39us/step - loss: 0.0849 - acc: 0.9691 - val_loss: 0.0484 - val_acc: 0.9821\n",
      "Epoch 8/53\n",
      "25000/25000 [==============================] - 1s 39us/step - loss: 0.0770 - acc: 0.9716 - val_loss: 0.0564 - val_acc: 0.9771\n",
      "Epoch 9/53\n",
      "25000/25000 [==============================] - 1s 40us/step - loss: 0.0756 - acc: 0.9721 - val_loss: 0.0752 - val_acc: 0.9701\n",
      "Epoch 10/53\n",
      "25000/25000 [==============================] - 1s 44us/step - loss: 0.0754 - acc: 0.9715 - val_loss: 0.0589 - val_acc: 0.9784\n",
      "Epoch 11/53\n",
      "25000/25000 [==============================] - 1s 39us/step - loss: 0.0697 - acc: 0.9744 - val_loss: 0.0482 - val_acc: 0.9798\n",
      "Epoch 12/53\n",
      "25000/25000 [==============================] - 1s 38us/step - loss: 0.0653 - acc: 0.9761 - val_loss: 0.0368 - val_acc: 0.9874\n",
      "Epoch 13/53\n",
      "25000/25000 [==============================] - 1s 46us/step - loss: 0.0628 - acc: 0.9764 - val_loss: 0.0398 - val_acc: 0.9858\n",
      "Epoch 14/53\n",
      "25000/25000 [==============================] - 1s 56us/step - loss: 0.0633 - acc: 0.9775 - val_loss: 0.0353 - val_acc: 0.9854\n",
      "Epoch 15/53\n",
      "25000/25000 [==============================] - 1s 55us/step - loss: 0.0663 - acc: 0.9754 - val_loss: 0.0524 - val_acc: 0.9784\n",
      "Epoch 16/53\n",
      "25000/25000 [==============================] - 1s 41us/step - loss: 0.0591 - acc: 0.9798 - val_loss: 0.0369 - val_acc: 0.9845\n",
      "Epoch 17/53\n",
      "25000/25000 [==============================] - 1s 41us/step - loss: 0.0549 - acc: 0.9791 - val_loss: 0.0556 - val_acc: 0.9814\n",
      "Epoch 18/53\n",
      "25000/25000 [==============================] - 1s 40us/step - loss: 0.0595 - acc: 0.9774 - val_loss: 0.0405 - val_acc: 0.9853\n",
      "Epoch 19/53\n",
      "25000/25000 [==============================] - 1s 46us/step - loss: 0.0607 - acc: 0.9776 - val_loss: 0.0358 - val_acc: 0.9867\n",
      "Epoch 20/53\n",
      "25000/25000 [==============================] - 1s 45us/step - loss: 0.0553 - acc: 0.9791 - val_loss: 0.0280 - val_acc: 0.9910\n",
      "Epoch 21/53\n",
      "25000/25000 [==============================] - 1s 39us/step - loss: 0.0537 - acc: 0.9797 - val_loss: 0.0373 - val_acc: 0.9846\n",
      "Epoch 22/53\n",
      "25000/25000 [==============================] - 1s 40us/step - loss: 0.0525 - acc: 0.9813 - val_loss: 0.0395 - val_acc: 0.9850\n",
      "Epoch 23/53\n",
      "25000/25000 [==============================] - 1s 41us/step - loss: 0.0558 - acc: 0.9808 - val_loss: 0.0321 - val_acc: 0.9866\n",
      "Epoch 24/53\n",
      "25000/25000 [==============================] - 1s 40us/step - loss: 0.0488 - acc: 0.9821 - val_loss: 0.0344 - val_acc: 0.9890\n",
      "Epoch 25/53\n",
      "25000/25000 [==============================] - 1s 47us/step - loss: 0.0520 - acc: 0.9801 - val_loss: 0.0426 - val_acc: 0.9805\n",
      "Epoch 26/53\n",
      "25000/25000 [==============================] - 1s 42us/step - loss: 0.0494 - acc: 0.9819 - val_loss: 0.0588 - val_acc: 0.9763\n",
      "Epoch 27/53\n",
      "25000/25000 [==============================] - 1s 42us/step - loss: 0.0506 - acc: 0.9812 - val_loss: 0.0326 - val_acc: 0.9896\n",
      "Epoch 28/53\n",
      "25000/25000 [==============================] - 1s 41us/step - loss: 0.0481 - acc: 0.9820 - val_loss: 0.0262 - val_acc: 0.9920\n",
      "Epoch 29/53\n",
      "25000/25000 [==============================] - 1s 41us/step - loss: 0.0485 - acc: 0.9815 - val_loss: 0.0236 - val_acc: 0.9909\n",
      "Epoch 30/53\n",
      "25000/25000 [==============================] - 1s 42us/step - loss: 0.0496 - acc: 0.9814 - val_loss: 0.0367 - val_acc: 0.9834\n",
      "Epoch 31/53\n",
      "25000/25000 [==============================] - 1s 48us/step - loss: 0.0466 - acc: 0.9832 - val_loss: 0.0482 - val_acc: 0.9858\n",
      "Epoch 32/53\n",
      "25000/25000 [==============================] - 1s 48us/step - loss: 0.0451 - acc: 0.9837 - val_loss: 0.0515 - val_acc: 0.9790\n",
      "Epoch 33/53\n",
      "25000/25000 [==============================] - 1s 46us/step - loss: 0.0538 - acc: 0.9804 - val_loss: 0.0485 - val_acc: 0.9774\n",
      "Epoch 34/53\n",
      "25000/25000 [==============================] - 1s 42us/step - loss: 0.0444 - acc: 0.9832 - val_loss: 0.0546 - val_acc: 0.9808\n",
      "Epoch 35/53\n",
      "25000/25000 [==============================] - 1s 42us/step - loss: 0.0490 - acc: 0.9818 - val_loss: 0.0259 - val_acc: 0.9920\n",
      "Epoch 36/53\n",
      "25000/25000 [==============================] - 1s 42us/step - loss: 0.0449 - acc: 0.9841 - val_loss: 0.0290 - val_acc: 0.9891\n",
      "Epoch 37/53\n",
      "25000/25000 [==============================] - 1s 51us/step - loss: 0.0421 - acc: 0.9845 - val_loss: 0.0260 - val_acc: 0.9901\n",
      "Epoch 38/53\n",
      "25000/25000 [==============================] - 1s 49us/step - loss: 0.0476 - acc: 0.9831 - val_loss: 0.0266 - val_acc: 0.9917\n",
      "Epoch 39/53\n",
      "25000/25000 [==============================] - 1s 50us/step - loss: 0.0425 - acc: 0.9840 - val_loss: 0.0334 - val_acc: 0.9877\n",
      "Epoch 40/53\n",
      "25000/25000 [==============================] - 1s 50us/step - loss: 0.0471 - acc: 0.9836 - val_loss: 0.0395 - val_acc: 0.9856\n",
      "Epoch 41/53\n",
      "25000/25000 [==============================] - 1s 57us/step - loss: 0.0466 - acc: 0.9834 - val_loss: 0.0285 - val_acc: 0.9891\n",
      "Epoch 42/53\n",
      "25000/25000 [==============================] - 1s 51us/step - loss: 0.0439 - acc: 0.9837 - val_loss: 0.0337 - val_acc: 0.9877\n",
      "Epoch 43/53\n",
      "25000/25000 [==============================] - 1s 54us/step - loss: 0.0435 - acc: 0.9832 - val_loss: 0.0291 - val_acc: 0.9891\n",
      "Epoch 44/53\n",
      "25000/25000 [==============================] - 1s 55us/step - loss: 0.0373 - acc: 0.9858 - val_loss: 0.0374 - val_acc: 0.9858\n",
      "Epoch 45/53\n",
      "25000/25000 [==============================] - 1s 57us/step - loss: 0.0479 - acc: 0.9830 - val_loss: 0.0291 - val_acc: 0.9907\n",
      "Epoch 46/53\n",
      "25000/25000 [==============================] - 1s 51us/step - loss: 0.0415 - acc: 0.9850 - val_loss: 0.0283 - val_acc: 0.9904\n",
      "Epoch 47/53\n",
      "25000/25000 [==============================] - 1s 50us/step - loss: 0.0425 - acc: 0.9841 - val_loss: 0.0351 - val_acc: 0.9854\n",
      "Epoch 48/53\n",
      "25000/25000 [==============================] - 1s 52us/step - loss: 0.0423 - acc: 0.9842 - val_loss: 0.0295 - val_acc: 0.9885\n",
      "Epoch 49/53\n",
      "25000/25000 [==============================] - 1s 48us/step - loss: 0.0440 - acc: 0.9841 - val_loss: 0.0344 - val_acc: 0.9872\n",
      "Epoch 50/53\n",
      "25000/25000 [==============================] - 1s 50us/step - loss: 0.0452 - acc: 0.9827 - val_loss: 0.0307 - val_acc: 0.9874\n",
      "Epoch 51/53\n",
      "25000/25000 [==============================] - 1s 50us/step - loss: 0.0448 - acc: 0.9844 - val_loss: 0.0365 - val_acc: 0.9851\n",
      "Epoch 52/53\n",
      "25000/25000 [==============================] - 1s 48us/step - loss: 0.0373 - acc: 0.9860 - val_loss: 0.0324 - val_acc: 0.9890\n",
      "Epoch 53/53\n",
      "25000/25000 [==============================] - 1s 49us/step - loss: 0.0413 - acc: 0.9852 - val_loss: 0.0265 - val_acc: 0.9918\n"
     ]
    },
    {
     "data": {
      "text/plain": [
       "<keras.callbacks.History at 0x26b9ad0ba58>"
      ]
     },
     "execution_count": 126,
     "metadata": {},
     "output_type": "execute_result"
    }
   ],
   "source": [
    "model2 = Sequential()\n",
    "model2.add(layers.Dense(units=60, activation='relu', input_dim= 8))\n",
    "model2.add(layers.Dense(units=60, activation='relu'))\n",
    "model2.add(layers.Dense(units=60, activation='relu'))\n",
    "model2.add(layers.Dropout(0.2))\n",
    "model2.add(layers.Dense(units=40, activation='relu'))\n",
    "model2.add(layers.Dense(units=40, activation='relu'))\n",
    "model2.add(layers.Dropout(0.2))\n",
    "model2.add(layers.Dense(units=20, activation='relu'))\n",
    "model2.add(layers.Dense(units=5, activation='softmax'))\n",
    "model2.compile(loss='categorical_crossentropy',\n",
    "              optimizer='adam',\n",
    "              metrics=['accuracy'])\n",
    "model2.fit(X_train,Y_train, epochs=53,validation_data=(X_val,Y_val), batch_size=128)"
   ]
  },
  {
   "cell_type": "markdown",
   "metadata": {},
   "source": [
    "$$\\Huge \\text{GMM Data} $$"
   ]
  },
  {
   "cell_type": "code",
   "execution_count": 127,
   "metadata": {},
   "outputs": [
    {
     "name": "stdout",
     "output_type": "stream",
     "text": [
      "(25000, 5)\n",
      "(25000, 5)\n",
      "(6250, 5)\n",
      "(6250, 5)\n"
     ]
    }
   ],
   "source": [
    "X_train,Y_train,X_val,Y_val = load_data(filename='GMMData.mat')\n",
    "print(X_train.shape)\n",
    "print(Y_train.shape)\n",
    "print(X_val.shape)\n",
    "print(Y_val.shape)"
   ]
  },
  {
   "cell_type": "markdown",
   "metadata": {},
   "source": [
    "$$\\large \\text{t-sne Visualization} $$"
   ]
  },
  {
   "cell_type": "code",
   "execution_count": 135,
   "metadata": {},
   "outputs": [
    {
     "data": {
      "text/plain": [
       "<matplotlib.collections.PathCollection at 0x26bb81a7550>"
      ]
     },
     "execution_count": 135,
     "metadata": {},
     "output_type": "execute_result"
    },
    {
     "data": {
      "image/png": "[encoded data removed]",
      "text/plain": [
       "<Figure size 432x288 with 1 Axes>"
      ]
     },
     "metadata": {},
     "output_type": "display_data"
    }
   ],
   "source": [
    "t_sne = manifold.TSNE(n_components=2)\n",
    "X_visualization = t_sne.fit_transform(X_train)\n",
    "\n",
    "yellow_idx = Y_train[:, 2]==1\n",
    "green_idx = Y_train[:, 4]==1\n",
    "purple_idx = Y_train[:, 3]==1\n",
    "blue_idx = Y_train[:, 0]==1\n",
    "orange_idx = Y_train[:, 1]==1\n",
    "plt.scatter(x=X_visualization[yellow_idx,0], y=X_visualization[yellow_idx,1] ,c='goldenrod')\n",
    "plt.scatter(x=X_visualization[blue_idx,0], y=X_visualization[blue_idx,1] ,c='blue')\n",
    "plt.scatter(x=X_visualization[orange_idx,0], y=X_visualization[orange_idx,1] ,c='orangered')\n",
    "plt.scatter(x=X_visualization[green_idx,0], y=X_visualization[green_idx,1] ,c='yellowgreen')\n",
    "plt.scatter(x=X_visualization[purple_idx,0], y=X_visualization[purple_idx,1] ,c='purple')"
   ]
  },
  {
   "cell_type": "markdown",
   "metadata": {},
   "source": [
    "$$\\large \\text{Correlation Matrix} $$"
   ]
  },
  {
   "cell_type": "code",
   "execution_count": 137,
   "metadata": {},
   "outputs": [
    {
     "name": "stdout",
     "output_type": "stream",
     "text": [
      "[[0.06956109 0.04304842 0.03756722 0.03721923 0.04712403]\n",
      " [0.04304842 0.04645383 0.0329813  0.03475023 0.03870407]\n",
      " [0.03756722 0.0329813  0.04200448 0.02763767 0.03298492]\n",
      " [0.03721923 0.03475023 0.02763767 0.04621023 0.03880816]\n",
      " [0.04712403 0.03870407 0.03298492 0.03880816 0.05411984]]\n"
     ]
    }
   ],
   "source": [
    "cor = X_train.T.dot(X_train)\n",
    "print(cor/np.sum(cor))"
   ]
  },
  {
   "cell_type": "markdown",
   "metadata": {},
   "source": [
    "$$\\large \\text{Model} $$"
   ]
  },
  {
   "cell_type": "code",
   "execution_count": 129,
   "metadata": {},
   "outputs": [
    {
     "name": "stdout",
     "output_type": "stream",
     "text": [
      "Train on 25000 samples, validate on 6250 samples\n",
      "Epoch 1/53\n",
      "25000/25000 [==============================] - 4s 173us/step - loss: 1.1372 - acc: 0.5084 - val_loss: 0.4603 - val_acc: 0.8530\n",
      "Epoch 2/53\n",
      "25000/25000 [==============================] - 1s 42us/step - loss: 0.4261 - acc: 0.8402 - val_loss: 0.1237 - val_acc: 0.9666\n",
      "Epoch 3/53\n",
      "25000/25000 [==============================] - 1s 43us/step - loss: 0.1865 - acc: 0.9432 - val_loss: 0.0599 - val_acc: 0.9826\n",
      "Epoch 4/53\n",
      "25000/25000 [==============================] - 1s 43us/step - loss: 0.1126 - acc: 0.9692 - val_loss: 0.0368 - val_acc: 0.9880\n",
      "Epoch 5/53\n",
      "25000/25000 [==============================] - 1s 42us/step - loss: 0.0895 - acc: 0.9760 - val_loss: 0.0414 - val_acc: 0.9861\n",
      "Epoch 6/53\n",
      "25000/25000 [==============================] - 1s 49us/step - loss: 0.0745 - acc: 0.9793 - val_loss: 0.0357 - val_acc: 0.9890\n",
      "Epoch 7/53\n",
      "25000/25000 [==============================] - 1s 44us/step - loss: 0.0741 - acc: 0.9794 - val_loss: 0.0430 - val_acc: 0.9864\n",
      "Epoch 8/53\n",
      "25000/25000 [==============================] - 1s 43us/step - loss: 0.0603 - acc: 0.9837 - val_loss: 0.0241 - val_acc: 0.9925\n",
      "Epoch 9/53\n",
      "25000/25000 [==============================] - 1s 49us/step - loss: 0.0586 - acc: 0.9840 - val_loss: 0.0239 - val_acc: 0.9917\n",
      "Epoch 10/53\n",
      "25000/25000 [==============================] - 1s 43us/step - loss: 0.0574 - acc: 0.9842 - val_loss: 0.0290 - val_acc: 0.9894\n",
      "Epoch 11/53\n",
      "25000/25000 [==============================] - 1s 43us/step - loss: 0.0525 - acc: 0.9856 - val_loss: 0.0229 - val_acc: 0.9920\n",
      "Epoch 12/53\n",
      "25000/25000 [==============================] - 1s 49us/step - loss: 0.0499 - acc: 0.9859 - val_loss: 0.0249 - val_acc: 0.9918\n",
      "Epoch 13/53\n",
      "25000/25000 [==============================] - 1s 43us/step - loss: 0.0517 - acc: 0.9862 - val_loss: 0.0258 - val_acc: 0.9917\n",
      "Epoch 14/53\n",
      "25000/25000 [==============================] - 1s 44us/step - loss: 0.0490 - acc: 0.9859 - val_loss: 0.0229 - val_acc: 0.9923\n",
      "Epoch 15/53\n",
      "25000/25000 [==============================] - 1s 44us/step - loss: 0.0484 - acc: 0.9870 - val_loss: 0.0252 - val_acc: 0.9907\n",
      "Epoch 16/53\n",
      "25000/25000 [==============================] - 1s 44us/step - loss: 0.0459 - acc: 0.9881 - val_loss: 0.0238 - val_acc: 0.9923\n",
      "Epoch 17/53\n",
      "25000/25000 [==============================] - 1s 44us/step - loss: 0.0442 - acc: 0.9868 - val_loss: 0.0248 - val_acc: 0.9915\n",
      "Epoch 18/53\n",
      "25000/25000 [==============================] - 1s 46us/step - loss: 0.0442 - acc: 0.9876 - val_loss: 0.0270 - val_acc: 0.9891\n",
      "Epoch 19/53\n",
      "25000/25000 [==============================] - 1s 50us/step - loss: 0.0388 - acc: 0.9885 - val_loss: 0.0203 - val_acc: 0.9920\n",
      "Epoch 20/53\n",
      "25000/25000 [==============================] - 1s 45us/step - loss: 0.0391 - acc: 0.9888 - val_loss: 0.0208 - val_acc: 0.9918\n",
      "Epoch 21/53\n",
      "25000/25000 [==============================] - 1s 48us/step - loss: 0.0371 - acc: 0.9890 - val_loss: 0.0241 - val_acc: 0.9920\n",
      "Epoch 22/53\n",
      "25000/25000 [==============================] - 1s 47us/step - loss: 0.0370 - acc: 0.9886 - val_loss: 0.0179 - val_acc: 0.9939\n",
      "Epoch 23/53\n",
      "25000/25000 [==============================] - 1s 47us/step - loss: 0.0329 - acc: 0.9907 - val_loss: 0.0312 - val_acc: 0.9888\n",
      "Epoch 24/53\n",
      "25000/25000 [==============================] - 1s 46us/step - loss: 0.0434 - acc: 0.9885 - val_loss: 0.0390 - val_acc: 0.9882\n",
      "Epoch 25/53\n",
      "25000/25000 [==============================] - 1s 45us/step - loss: 0.0333 - acc: 0.9904 - val_loss: 0.0273 - val_acc: 0.9901\n",
      "Epoch 26/53\n",
      "25000/25000 [==============================] - 1s 45us/step - loss: 0.0321 - acc: 0.9903 - val_loss: 0.0195 - val_acc: 0.9931\n",
      "Epoch 27/53\n",
      "25000/25000 [==============================] - 1s 52us/step - loss: 0.0336 - acc: 0.9898 - val_loss: 0.0230 - val_acc: 0.9918\n",
      "Epoch 28/53\n",
      "25000/25000 [==============================] - 1s 45us/step - loss: 0.0363 - acc: 0.9884 - val_loss: 0.0254 - val_acc: 0.9899\n",
      "Epoch 29/53\n",
      "25000/25000 [==============================] - 1s 44us/step - loss: 0.0386 - acc: 0.9888 - val_loss: 0.0190 - val_acc: 0.9933\n",
      "Epoch 30/53\n",
      "25000/25000 [==============================] - 1s 44us/step - loss: 0.0330 - acc: 0.9901 - val_loss: 0.0181 - val_acc: 0.9938\n",
      "Epoch 31/53\n",
      "25000/25000 [==============================] - 1s 44us/step - loss: 0.0312 - acc: 0.9909 - val_loss: 0.0189 - val_acc: 0.9946\n",
      "Epoch 32/53\n",
      "25000/25000 [==============================] - 1s 46us/step - loss: 0.0286 - acc: 0.9917 - val_loss: 0.0199 - val_acc: 0.9934\n",
      "Epoch 33/53\n",
      "25000/25000 [==============================] - 1s 49us/step - loss: 0.0318 - acc: 0.9898 - val_loss: 0.0167 - val_acc: 0.9947\n",
      "Epoch 34/53\n",
      "25000/25000 [==============================] - 1s 45us/step - loss: 0.0316 - acc: 0.9900 - val_loss: 0.0183 - val_acc: 0.9941\n",
      "Epoch 35/53\n",
      "25000/25000 [==============================] - 1s 45us/step - loss: 0.0265 - acc: 0.9922 - val_loss: 0.0240 - val_acc: 0.9920\n",
      "Epoch 36/53\n",
      "25000/25000 [==============================] - 1s 43us/step - loss: 0.0292 - acc: 0.9910 - val_loss: 0.0181 - val_acc: 0.9938\n",
      "Epoch 37/53\n",
      "25000/25000 [==============================] - 1s 43us/step - loss: 0.0292 - acc: 0.9913 - val_loss: 0.0179 - val_acc: 0.9925\n",
      "Epoch 38/53\n",
      "25000/25000 [==============================] - 1s 43us/step - loss: 0.0301 - acc: 0.9903 - val_loss: 0.0235 - val_acc: 0.9944\n",
      "Epoch 39/53\n",
      "25000/25000 [==============================] - 1s 42us/step - loss: 0.0363 - acc: 0.9901 - val_loss: 0.0168 - val_acc: 0.9949\n",
      "Epoch 40/53\n",
      "25000/25000 [==============================] - 1s 42us/step - loss: 0.0312 - acc: 0.9906 - val_loss: 0.0162 - val_acc: 0.9954\n",
      "Epoch 41/53\n",
      "25000/25000 [==============================] - 1s 43us/step - loss: 0.0274 - acc: 0.9919 - val_loss: 0.0196 - val_acc: 0.9933\n",
      "Epoch 42/53\n",
      "25000/25000 [==============================] - 1s 42us/step - loss: 0.0256 - acc: 0.9914 - val_loss: 0.0289 - val_acc: 0.9918\n",
      "Epoch 43/53\n",
      "25000/25000 [==============================] - 1s 42us/step - loss: 0.0284 - acc: 0.9909 - val_loss: 0.0224 - val_acc: 0.9912\n",
      "Epoch 44/53\n",
      "25000/25000 [==============================] - 1s 48us/step - loss: 0.0239 - acc: 0.9927 - val_loss: 0.0302 - val_acc: 0.9922\n",
      "Epoch 45/53\n",
      "25000/25000 [==============================] - 1s 59us/step - loss: 0.0256 - acc: 0.9930 - val_loss: 0.0493 - val_acc: 0.9867\n",
      "Epoch 46/53\n",
      "25000/25000 [==============================] - 1s 52us/step - loss: 0.0284 - acc: 0.9912 - val_loss: 0.0141 - val_acc: 0.9954\n",
      "Epoch 47/53\n",
      "25000/25000 [==============================] - 1s 53us/step - loss: 0.0275 - acc: 0.9926 - val_loss: 0.0155 - val_acc: 0.9938\n",
      "Epoch 48/53\n",
      "25000/25000 [==============================] - 1s 52us/step - loss: 0.0222 - acc: 0.9924 - val_loss: 0.0192 - val_acc: 0.9946\n",
      "Epoch 49/53\n",
      "25000/25000 [==============================] - 1s 53us/step - loss: 0.0236 - acc: 0.9926 - val_loss: 0.0271 - val_acc: 0.9904\n",
      "Epoch 50/53\n",
      "25000/25000 [==============================] - 1s 53us/step - loss: 0.0301 - acc: 0.9908 - val_loss: 0.0220 - val_acc: 0.9934\n",
      "Epoch 51/53\n",
      "25000/25000 [==============================] - 1s 54us/step - loss: 0.0252 - acc: 0.9919 - val_loss: 0.0137 - val_acc: 0.9962\n",
      "Epoch 52/53\n",
      "25000/25000 [==============================] - 1s 57us/step - loss: 0.0264 - acc: 0.9925 - val_loss: 0.0310 - val_acc: 0.9894\n",
      "Epoch 53/53\n",
      "25000/25000 [==============================] - 1s 54us/step - loss: 0.0256 - acc: 0.9925 - val_loss: 0.0139 - val_acc: 0.9955\n"
     ]
    },
    {
     "data": {
      "text/plain": [
       "<keras.callbacks.History at 0x26bb5fef2e8>"
      ]
     },
     "execution_count": 129,
     "metadata": {},
     "output_type": "execute_result"
    }
   ],
   "source": [
    "model3 = Sequential()\n",
    "model3.add(layers.Dense(units=60, activation='relu', input_dim= 5))\n",
    "model3.add(layers.Dense(units=60, activation='relu'))\n",
    "model3.add(layers.Dense(units=60, activation='relu'))\n",
    "model3.add(layers.Dropout(0.2))\n",
    "model3.add(layers.Dense(units=40, activation='relu'))\n",
    "model3.add(layers.Dense(units=40, activation='relu'))\n",
    "model3.add(layers.Dropout(0.2))\n",
    "model3.add(layers.Dense(units=20, activation='relu'))\n",
    "model3.add(layers.Dense(units=20, activation='relu'))\n",
    "model3.add(layers.Dropout(0.2))\n",
    "model3.add(layers.Dense(units=5, activation='softmax'))\n",
    "model3.compile(loss='categorical_crossentropy',\n",
    "              optimizer='adam',\n",
    "              metrics=['accuracy'])\n",
    "model3.fit(X_train,Y_train, epochs=53,validation_data=(X_val,Y_val), batch_size=128)"
   ]
  },
  {
   "cell_type": "code",
   "execution_count": null,
   "metadata": {},
   "outputs": [],
   "source": []
  }
 ],
 "metadata": {
  "kernelspec": {
   "display_name": "Python 3",
   "language": "python",
   "name": "python3"
  },
  "language_info": {
   "codemirror_mode": {
    "name": "ipython",
    "version": 3
   },
   "file_extension": ".py",
   "mimetype": "text/x-python",
   "name": "python",
   "nbconvert_exporter": "python",
   "pygments_lexer": "ipython3",
   "version": "3.6.4"
  }
 },
 "nbformat": 4,
 "nbformat_minor": 2
}
